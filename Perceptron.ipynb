{
 "cells": [
  {
   "cell_type": "code",
   "execution_count": 4,
   "metadata": {},
   "outputs": [],
   "source": [
    "import numpy as np\n",
    "import matplotlib.pyplot as plt\n",
    "from sklearn.metrics import accuracy_score, confusion_matrix\n",
    "learning_rates=[0.001,0.01,0.1]\n",
    "output_size = 10 \n",
    "input_size = 785 # image_size = 28 * 28\n",
    "no_of_iterations = 70\n",
    "\n",
    "def adjust_weights(out,imgs,weights,t_label):\n",
    "    y = np.zeros(10)\n",
    "    t=np.zeros(10)\n",
    "    y[np.argmax(out)]= 1 \n",
    "    t[t_label]= 1\n",
    "    difference = t - y\n",
    "    update = np.dot(np.reshape(imgs, (input_size, 1)), np.reshape(difference, (1, output_size)))\n",
    "    weights += (l * update)                                                                  \n",
    "    return weights  \n",
    "\n",
    "def pcnfwd(imgs):\n",
    "    unit_output= np.dot(np.reshape(imgs,(1,input_size)),weights)\n",
    "    return unit_output\n",
    "\n",
    "def pcntrain(weights):\n",
    "    for i in range(0, 60000):\n",
    "        unit_output = pcnfwd(train_imgs[i, :]) \n",
    "        t_label = int(train_labels[i])\n",
    "        weights = adjust_weights(unit_output,train_imgs[i, :],weights,t_label)            \n",
    "    return weights\n",
    "\n",
    "def pcntest(dataset, data_labels, set_size):\n",
    "    prediction = []\n",
    "    for i in range(0, set_size):\n",
    "        unit_output = pcnfwd(dataset[i, :])                \n",
    "        prediction.append(np.argmax(unit_output))          \n",
    "    return accuracy_score(data_labels, prediction), prediction\n"
   ]
  },
  {
   "cell_type": "code",
   "execution_count": 2,
   "metadata": {},
   "outputs": [
    {
     "name": "stdout",
     "output_type": "stream",
     "text": [
      "Loading train data\n",
      "\n",
      "Loading test data\n",
      "\n"
     ]
    }
   ],
   "source": [
    "data_path = \"/Users/shweta/Documents/MNIST/\"\n",
    "print(\"Loading train data\\n\")\n",
    "train_data = np.loadtxt(data_path + \"mnist_train.csv\", delimiter=\",\")\n",
    "print(\"Loading test data\\n\")\n",
    "test_data = np.loadtxt(data_path + \"mnist_test.csv\", delimiter=\",\")\n",
    "\n",
    "scale_by = 255\n",
    "train_data_imgs = np.asfarray(train_data[:, 1:]) / scale_by\n",
    "train_imgs = np.insert(train_data_imgs, 0, 1, axis=1)\n",
    "test_data_imgs = np.asfarray(test_data[:, 1:]) / scale_by\n",
    "test_imgs = np.insert(test_data_imgs, 0, 1, axis=1)\n",
    "train_labels = np.array(train_data[:, :1])\n",
    "test_labels = np.array(test_data[:, :1])"
   ]
  },
  {
   "cell_type": "code",
   "execution_count": 6,
   "metadata": {},
   "outputs": [
    {
     "name": "stdout",
     "output_type": "stream",
     "text": [
      "Epoch 0 :\tTraining Set Accuracy = 8.666666666666668\n",
      "\t\tTest Set Accuracy = 8.48\n",
      "Epoch 1 :\tTraining Set Accuracy = 88.33666666666666\n",
      "\t\tTest Set Accuracy = 87.68\n",
      "Epoch 2 :\tTraining Set Accuracy = 85.98\n",
      "\t\tTest Set Accuracy = 85.71\n",
      "Epoch 3 :\tTraining Set Accuracy = 87.77666666666667\n",
      "\t\tTest Set Accuracy = 87.71\n",
      "Epoch 4 :\tTraining Set Accuracy = 87.58500000000001\n",
      "\t\tTest Set Accuracy = 86.83999999999999\n",
      "Epoch 5 :\tTraining Set Accuracy = 86.34166666666667\n",
      "\t\tTest Set Accuracy = 85.42\n",
      "Epoch 6 :\tTraining Set Accuracy = 88.3\n",
      "\t\tTest Set Accuracy = 87.42999999999999\n",
      "Epoch 7 :\tTraining Set Accuracy = 86.39833333333333\n",
      "\t\tTest Set Accuracy = 85.31\n"
     ]
    },
    {
     "data": {
      "image/png": "[encoded data removed]",
      "text/plain": [
       "<Figure size 432x288 with 1 Axes>"
      ]
     },
     "metadata": {},
     "output_type": "display_data"
    },
    {
     "name": "stdout",
     "output_type": "stream",
     "text": [
      "\t\tTest Set Accuracy = 88.14999999999999\n",
      "\n",
      "Learning Rate = 0.001\n",
      "\n",
      "Confusion Matrix :\n",
      "\n",
      "[[ 968    0    0    1    0    2    4    1    2    2]\n",
      " [   0 1123    2    2    0    1    4    1    2    0]\n",
      " [  26   59  791   89    4    4   15    4   31    9]\n",
      " [   8    1   11  920    0   28    4    9   12   17]\n",
      " [   5    2    5    3  843    1   14    1   20   88]\n",
      " [  18    7    0   41   12  722   15    5   50   22]\n",
      " [  19    5    6    1    3   26  893    2    3    0]\n",
      " [   6   18   16   18    6    0    0  857   15   92]\n",
      " [  17   37    4   77   12   32    9    3  757   26]\n",
      " [  13    7    0    7   17    5    1    6   12  941]]\n",
      "\n",
      "\n",
      "Epoch 0 :\tTraining Set Accuracy = 11.216666666666667\n",
      "\t\tTest Set Accuracy = 11.98\n",
      "Epoch 1 :\tTraining Set Accuracy = 87.225\n",
      "\t\tTest Set Accuracy = 87.12\n",
      "Epoch 2 :\tTraining Set Accuracy = 87.92333333333333\n",
      "\t\tTest Set Accuracy = 87.77000000000001\n",
      "Epoch 3 :\tTraining Set Accuracy = 86.27166666666668\n",
      "\t\tTest Set Accuracy = 85.87\n",
      "Epoch 4 :\tTraining Set Accuracy = 87.13499999999999\n",
      "\t\tTest Set Accuracy = 86.04\n",
      "Epoch 5 :\tTraining Set Accuracy = 87.79333333333334\n",
      "\t\tTest Set Accuracy = 87.01\n",
      "Epoch 6 :\tTraining Set Accuracy = 89.615\n",
      "\t\tTest Set Accuracy = 88.68\n",
      "Epoch 7 :\tTraining Set Accuracy = 89.035\n",
      "\t\tTest Set Accuracy = 88.87\n"
     ]
    },
    {
     "data": {
      "image/png": "[encoded data removed]",
      "text/plain": [
       "<Figure size 432x288 with 1 Axes>"
      ]
     },
     "metadata": {},
     "output_type": "display_data"
    },
    {
     "name": "stdout",
     "output_type": "stream",
     "text": [
      "\t\tTest Set Accuracy = 88.89\n",
      "\n",
      "Learning Rate = 0.01\n",
      "\n",
      "Confusion Matrix :\n",
      "\n",
      "[[ 967    0    1    1    0    3    3    3    2    0]\n",
      " [   0 1112    1    1    1    1    4    1   14    0]\n",
      " [  21   63  821   51   11    5   16    5   32    7]\n",
      " [  10    3   17  890    2   43    5   10   14   16]\n",
      " [   4    2    3    1  884    0   14    0   16   58]\n",
      " [  15    5    2   48   16  711   19    6   60   10]\n",
      " [  20    5    8    1    7   16  895    1    4    1]\n",
      " [   3   15   28   10   12    2    1  892   13   52]\n",
      " [  11   27    7   49   27   29    8    9  776   31]\n",
      " [  11    8    1    6   21    6    1    7    7  941]]\n",
      "\n",
      "\n",
      "Epoch 0 :\tTraining Set Accuracy = 12.896666666666668\n",
      "\t\tTest Set Accuracy = 12.7\n",
      "Epoch 1 :\tTraining Set Accuracy = 88.12333333333333\n",
      "\t\tTest Set Accuracy = 87.83\n",
      "Epoch 2 :\tTraining Set Accuracy = 88.255\n",
      "\t\tTest Set Accuracy = 87.88\n",
      "Epoch 3 :\tTraining Set Accuracy = 88.10833333333333\n",
      "\t\tTest Set Accuracy = 87.59\n",
      "Epoch 4 :\tTraining Set Accuracy = 88.12666666666667\n",
      "\t\tTest Set Accuracy = 87.74\n",
      "Epoch 5 :\tTraining Set Accuracy = 85.71333333333332\n",
      "\t\tTest Set Accuracy = 84.68\n",
      "Epoch 6 :\tTraining Set Accuracy = 88.48166666666667\n",
      "\t\tTest Set Accuracy = 87.9\n",
      "Epoch 7 :\tTraining Set Accuracy = 88.64333333333333\n",
      "\t\tTest Set Accuracy = 87.94999999999999\n"
     ]
    },
    {
     "data": {
      "image/png": "[encoded data removed]",
      "text/plain": [
       "<Figure size 432x288 with 1 Axes>"
      ]
     },
     "metadata": {},
     "output_type": "display_data"
    },
    {
     "name": "stdout",
     "output_type": "stream",
     "text": [
      "\t\tTest Set Accuracy = 86.11999999999999\n",
      "\n",
      "Learning Rate = 0.1\n",
      "\n",
      "Confusion Matrix :\n",
      "\n",
      "[[ 967    0    0    2    1    3    1    1    2    3]\n",
      " [   0 1117    1    3    0    1    3    1    9    0]\n",
      " [  27   81  719   97    4    5   19    4   59   17]\n",
      " [  11    2   10  914    5   26    3   10   14   15]\n",
      " [   3    2    2    2  742    0   14    0   18  199]\n",
      " [  18    9    1   41   17  705   12    5   55   29]\n",
      " [  20    6    2    0    4   21  895    2    8    0]\n",
      " [   4   18   18   20    5    1    0  794    9  159]\n",
      " [  12   32    2   62   12   19    5    2  796   32]\n",
      " [  10    8    1    7    6    2    0    8    4  963]]\n",
      "\n",
      "\n"
     ]
    }
   ],
   "source": [
    "for l in learning_rates:\n",
    "    weights = np.random.uniform(low=-0.05, high=0.05, size=(input_size,output_size))\n",
    "                            \n",
    "    plt.xlabel('Epoch')\n",
    "    plt.ylabel('Accuracy')\n",
    "    plt.axis([0, 30, 0, 100])\n",
    "    prev_accuracy = 1\n",
    "    curr_accuracy = 0\n",
    "    epoch = 0\n",
    "    test_accuracy = []\n",
    "    train_accuracy = []\n",
    "    plot_epoch = []\n",
    "    #plot_epoch = list(range(0,31))\n",
    "    while (epoch <= no_of_iterations):\n",
    "        curr_accuracy, prediction = pcntest(train_imgs, train_labels, 60000) \n",
    "        train_accuracy.append(curr_accuracy*100)         \n",
    "        print(\"Epoch \" + str(epoch) + \" :\\tTraining Set Accuracy = \" + str(curr_accuracy*100))  \n",
    "        test_accu, prediction = pcntest(test_imgs, test_labels, 10000)  \n",
    "        test_accuracy.append(test_accu*100)         \n",
    "        print(\"\\t\\tTest Set Accuracy = \" + str(test_accu*100))\n",
    "        if (abs(prev_accuracy - curr_accuracy) < 0.0001):\n",
    "            break\n",
    "        prev_accuracy = curr_accuracy\n",
    "        plot_epoch.append(epoch)\n",
    "        epoch+=1\n",
    "        weights = pcntrain(weights)   \n",
    "\n",
    "    plt.plot(plot_epoch,test_accuracy)\n",
    "    plt.plot(plot_epoch,train_accuracy)   \n",
    "    plt.legend(['Test Data', 'Training Data'], loc='lower right')\n",
    "    plt.show()\n",
    "    test_accu, prediction = pcntest(test_imgs, test_labels, 10000)            \n",
    "    print(\"\\t\\tTest Set Accuracy = \" + str(test_accu*100) + \"\\n\\nLearning Rate = \" + str(l) + \"\\n\\nConfusion Matrix :\\n\")\n",
    "    print(confusion_matrix(test_labels, prediction))\n",
    "    print(\"\\n\")\n",
    "    "
   ]
  }
 ],
 "metadata": {
  "kernelspec": {
   "display_name": "Python 2",
   "language": "python",
   "name": "python2"
  },
  "language_info": {
   "codemirror_mode": {
    "name": "ipython",
    "version": 2
   },
   "file_extension": ".py",
   "mimetype": "text/x-python",
   "name": "python",
   "nbconvert_exporter": "python",
   "pygments_lexer": "ipython2",
   "version": "2.7.15"
  }
 },
 "nbformat": 4,
 "nbformat_minor": 2
}
